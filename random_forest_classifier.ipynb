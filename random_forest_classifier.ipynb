{
 "cells": [
  {
   "cell_type": "markdown",
   "id": "57141be5",
   "metadata": {},
   "source": [
    "## Creating Random Classifier"
   ]
  },
  {
   "cell_type": "markdown",
   "id": "6dd14b5e",
   "metadata": {},
   "source": [
    "### Load Data"
   ]
  },
  {
   "cell_type": "code",
   "execution_count": 15,
   "id": "072a2721",
   "metadata": {},
   "outputs": [],
   "source": [
    "from sklearn.datasets import load_iris\n",
    "import pandas as pd\n",
    "\n",
    "iris_data = load_iris()\n"
   ]
  },
  {
   "cell_type": "markdown",
   "id": "dd9b4054",
   "metadata": {},
   "source": [
    "### Get X and y - Create Training and Test data"
   ]
  },
  {
   "cell_type": "code",
   "execution_count": 16,
   "id": "e2b1195a",
   "metadata": {},
   "outputs": [
    {
     "data": {
      "text/plain": [
       "(     sepal length (cm)  sepal width (cm)  petal length (cm)  petal width (cm)\n",
       " 0                  5.1               3.5                1.4               0.2\n",
       " 1                  4.9               3.0                1.4               0.2\n",
       " 2                  4.7               3.2                1.3               0.2\n",
       " 3                  4.6               3.1                1.5               0.2\n",
       " 4                  5.0               3.6                1.4               0.2\n",
       " ..                 ...               ...                ...               ...\n",
       " 145                6.7               3.0                5.2               2.3\n",
       " 146                6.3               2.5                5.0               1.9\n",
       " 147                6.5               3.0                5.2               2.0\n",
       " 148                6.2               3.4                5.4               2.3\n",
       " 149                5.9               3.0                5.1               1.8\n",
       " \n",
       " [150 rows x 4 columns],\n",
       " 0      0\n",
       " 1      0\n",
       " 2      0\n",
       " 3      0\n",
       " 4      0\n",
       "       ..\n",
       " 145    2\n",
       " 146    2\n",
       " 147    2\n",
       " 148    2\n",
       " 149    2\n",
       " Name: target, Length: 150, dtype: int64)"
      ]
     },
     "execution_count": 16,
     "metadata": {},
     "output_type": "execute_result"
    }
   ],
   "source": [
    "from sklearn.model_selection import train_test_split\n",
    "\n",
    "df = pd.DataFrame(data= iris_data.data, columns=iris_data.feature_names)\n",
    "df['target'] = iris_data.target\n",
    "\n",
    "\n",
    "X = df.drop(columns='target')\n",
    "y = df['target']\n",
    "X, y\n"
   ]
  },
  {
   "cell_type": "code",
   "execution_count": 17,
   "id": "94f2d954",
   "metadata": {},
   "outputs": [],
   "source": [
    "\n",
    "# Create Training and Test Data\n",
    "X_train, X_test, y_train, y_test = train_test_split(X, y, test_size=0.2)"
   ]
  },
  {
   "cell_type": "markdown",
   "id": "3b2e0c9c",
   "metadata": {},
   "source": []
  },
  {
   "cell_type": "markdown",
   "id": "fdf632ec",
   "metadata": {},
   "source": [
    "### Create Random Calssifier Model, Fit it and Predict"
   ]
  },
  {
   "cell_type": "code",
   "execution_count": 18,
   "id": "87d011da",
   "metadata": {},
   "outputs": [
    {
     "name": "stdout",
     "output_type": "stream",
     "text": [
      "<class 'pandas.core.frame.DataFrame'>\n",
      "RangeIndex: 150 entries, 0 to 149\n",
      "Data columns (total 5 columns):\n",
      " #   Column             Non-Null Count  Dtype  \n",
      "---  ------             --------------  -----  \n",
      " 0   sepal length (cm)  150 non-null    float64\n",
      " 1   sepal width (cm)   150 non-null    float64\n",
      " 2   petal length (cm)  150 non-null    float64\n",
      " 3   petal width (cm)   150 non-null    float64\n",
      " 4   target             150 non-null    int64  \n",
      "dtypes: float64(4), int64(1)\n",
      "memory usage: 6.0 KB\n"
     ]
    }
   ],
   "source": [
    "df.info()"
   ]
  },
  {
   "cell_type": "code",
   "execution_count": 19,
   "id": "c4beb836",
   "metadata": {},
   "outputs": [],
   "source": [
    "from sklearn.ensemble import RandomForestClassifier\n",
    "model = RandomForestClassifier(n_estimators=100, random_state=42) #100 Decsion Trees\n",
    "\n",
    "model.fit (X_train, y_train)\n",
    "y_predicted = model.predict(X_test)"
   ]
  },
  {
   "cell_type": "markdown",
   "id": "072797a7",
   "metadata": {},
   "source": [
    "### Evaluate model performance with accuracy, precision, recall and F1 score\n"
   ]
  },
  {
   "cell_type": "code",
   "execution_count": 20,
   "id": "0c64a183",
   "metadata": {},
   "outputs": [
    {
     "data": {
      "text/plain": [
       "(0.9666666666666667,\n",
       " 0.9696969696969697,\n",
       " 0.9629629629629629,\n",
       " 0.9645191409897292)"
      ]
     },
     "execution_count": 20,
     "metadata": {},
     "output_type": "execute_result"
    }
   ],
   "source": [
    "from sklearn.metrics import accuracy_score, precision_score, recall_score, f1_score\n",
    "model_accuracy_score = accuracy_score(y_predicted, y_test)\n",
    "model_precision_score = precision_score(y_predicted, y_test, average='macro')\n",
    "model_recall_score = recall_score(y_predicted, y_test, average='macro')\n",
    "model_f1_score = f1_score(y_predicted, y_test, average='macro')\n",
    "model_accuracy_score, model_precision_score, model_recall_score, model_f1_score"
   ]
  }
 ],
 "metadata": {
  "kernelspec": {
   "display_name": "base",
   "language": "python",
   "name": "python3"
  },
  "language_info": {
   "codemirror_mode": {
    "name": "ipython",
    "version": 3
   },
   "file_extension": ".py",
   "mimetype": "text/x-python",
   "name": "python",
   "nbconvert_exporter": "python",
   "pygments_lexer": "ipython3",
   "version": "3.11.5"
  }
 },
 "nbformat": 4,
 "nbformat_minor": 5
}
